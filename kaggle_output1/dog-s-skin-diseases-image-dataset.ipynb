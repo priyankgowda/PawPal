{
 "cells": [
  {
   "cell_type": "code",
   "execution_count": 1,
   "id": "5999144e",
   "metadata": {
    "_cell_guid": "b1076dfc-b9ad-4769-8c92-a6c4dae69d19",
    "_uuid": "8f2839f25d086af736a60e9eeb907d3b93b6e0e5",
    "execution": {
     "iopub.execute_input": "2025-03-12T03:04:43.241455Z",
     "iopub.status.busy": "2025-03-12T03:04:43.241114Z",
     "iopub.status.idle": "2025-03-12T03:04:53.505234Z",
     "shell.execute_reply": "2025-03-12T03:04:53.504470Z"
    },
    "papermill": {
     "duration": 10.27041,
     "end_time": "2025-03-12T03:04:53.507027",
     "exception": false,
     "start_time": "2025-03-12T03:04:43.236617",
     "status": "completed"
    },
    "tags": []
   },
   "outputs": [],
   "source": [
    "import torch\n",
    "import torch.nn as nn\n",
    "import torch.optim as optim\n",
    "from torchvision import datasets, transforms, models\n",
    "from torch.utils.data import DataLoader\n",
    "import numpy as np\n",
    "from sklearn.metrics import confusion_matrix, classification_report\n",
    "import matplotlib.pyplot as plt\n",
    "import seaborn as sns\n",
    "import os"
   ]
  },
  {
   "cell_type": "code",
   "execution_count": 2,
   "id": "9e07c572",
   "metadata": {
    "execution": {
     "iopub.execute_input": "2025-03-12T03:04:53.513844Z",
     "iopub.status.busy": "2025-03-12T03:04:53.513449Z",
     "iopub.status.idle": "2025-03-12T03:04:53.565450Z",
     "shell.execute_reply": "2025-03-12T03:04:53.564450Z"
    },
    "papermill": {
     "duration": 0.056643,
     "end_time": "2025-03-12T03:04:53.566877",
     "exception": false,
     "start_time": "2025-03-12T03:04:53.510234",
     "status": "completed"
    },
    "tags": []
   },
   "outputs": [],
   "source": [
    "device = torch.device(\"cuda\" if torch.cuda.is_available() else \"cpu\")"
   ]
  },
  {
   "cell_type": "code",
   "execution_count": 3,
   "id": "98b58f28",
   "metadata": {
    "execution": {
     "iopub.execute_input": "2025-03-12T03:04:53.573256Z",
     "iopub.status.busy": "2025-03-12T03:04:53.572983Z",
     "iopub.status.idle": "2025-03-12T03:04:53.578479Z",
     "shell.execute_reply": "2025-03-12T03:04:53.577769Z"
    },
    "papermill": {
     "duration": 0.009898,
     "end_time": "2025-03-12T03:04:53.579739",
     "exception": false,
     "start_time": "2025-03-12T03:04:53.569841",
     "status": "completed"
    },
    "tags": []
   },
   "outputs": [],
   "source": [
    "# Data transforms\n",
    "data_transforms = {\n",
    "    'train': transforms.Compose([\n",
    "        transforms.RandomResizedCrop(224),\n",
    "        transforms.RandomHorizontalFlip(),\n",
    "        transforms.ToTensor(),\n",
    "        transforms.Normalize([0.485, 0.456, 0.406], [0.229, 0.224, 0.225])\n",
    "    ]),\n",
    "    'valid': transforms.Compose([\n",
    "        transforms.Resize(256),\n",
    "        transforms.CenterCrop(224),\n",
    "        transforms.ToTensor(),\n",
    "        transforms.Normalize([0.485, 0.456, 0.406], [0.229, 0.224, 0.225])\n",
    "    ]),\n",
    "    'test': transforms.Compose([\n",
    "        transforms.Resize(256),\n",
    "        transforms.CenterCrop(224),\n",
    "        transforms.ToTensor(),\n",
    "        transforms.Normalize([0.485, 0.456, 0.406], [0.229, 0.224, 0.225])\n",
    "    ]),\n",
    "}"
   ]
  },
  {
   "cell_type": "code",
   "execution_count": 4,
   "id": "b86a83d0",
   "metadata": {
    "execution": {
     "iopub.execute_input": "2025-03-12T03:04:53.585715Z",
     "iopub.status.busy": "2025-03-12T03:04:53.585490Z",
     "iopub.status.idle": "2025-03-12T03:04:56.873688Z",
     "shell.execute_reply": "2025-03-12T03:04:56.872853Z"
    },
    "papermill": {
     "duration": 3.292979,
     "end_time": "2025-03-12T03:04:56.875437",
     "exception": false,
     "start_time": "2025-03-12T03:04:53.582458",
     "status": "completed"
    },
    "tags": []
   },
   "outputs": [],
   "source": [
    "# Load datasets\n",
    "data_dir = '/kaggle/input/dogs-skin-diseases-image-dataset/'\n",
    "image_datasets = {\n",
    "    x: datasets.ImageFolder(os.path.join(data_dir, x), data_transforms[x])\n",
    "    for x in ['train', 'valid', 'test']\n",
    "}"
   ]
  },
  {
   "cell_type": "code",
   "execution_count": 5,
   "id": "e123ac6f",
   "metadata": {
    "execution": {
     "iopub.execute_input": "2025-03-12T03:04:56.882021Z",
     "iopub.status.busy": "2025-03-12T03:04:56.881751Z",
     "iopub.status.idle": "2025-03-12T03:04:56.885809Z",
     "shell.execute_reply": "2025-03-12T03:04:56.885082Z"
    },
    "papermill": {
     "duration": 0.008707,
     "end_time": "2025-03-12T03:04:56.887192",
     "exception": false,
     "start_time": "2025-03-12T03:04:56.878485",
     "status": "completed"
    },
    "tags": []
   },
   "outputs": [],
   "source": [
    "# Create dataloaders\n",
    "dataloaders = {\n",
    "    x: DataLoader(image_datasets[x], batch_size=16, shuffle=True, num_workers=4)\n",
    "    for x in ['train', 'valid', 'test']\n",
    "}"
   ]
  },
  {
   "cell_type": "code",
   "execution_count": 6,
   "id": "d307094a",
   "metadata": {
    "execution": {
     "iopub.execute_input": "2025-03-12T03:04:56.893041Z",
     "iopub.status.busy": "2025-03-12T03:04:56.892803Z",
     "iopub.status.idle": "2025-03-12T03:04:56.896435Z",
     "shell.execute_reply": "2025-03-12T03:04:56.895713Z"
    },
    "papermill": {
     "duration": 0.007889,
     "end_time": "2025-03-12T03:04:56.897741",
     "exception": false,
     "start_time": "2025-03-12T03:04:56.889852",
     "status": "completed"
    },
    "tags": []
   },
   "outputs": [],
   "source": [
    "dataset_sizes = {x: len(image_datasets[x]) for x in ['train', 'valid', 'test']}\n",
    "class_names = image_datasets['train'].classes\n",
    "num_classes = len(class_names)"
   ]
  },
  {
   "cell_type": "code",
   "execution_count": null,
   "id": "b604aba1",
   "metadata": {},
   "outputs": [],
   "source": [
    "# Print class names and count for use in the Flask app\n",
    "print(f\"Number of classes: {num_classes}\")\n",
    "print(f\"Class names: {class_names}\")"
   ]
  },
  {
   "cell_type": "code",
   "execution_count": 7,
   "id": "3dcf54c1",
   "metadata": {
    "execution": {
     "iopub.execute_input": "2025-03-12T03:04:56.903737Z",
     "iopub.status.busy": "2025-03-12T03:04:56.903504Z",
     "iopub.status.idle": "2025-03-12T03:04:58.380703Z",
     "shell.execute_reply": "2025-03-12T03:04:58.379859Z"
    },
    "papermill": {
     "duration": 1.481944,
     "end_time": "2025-03-12T03:04:58.382320",
     "exception": false,
     "start_time": "2025-03-12T03:04:56.900376",
     "status": "completed"
    },
    "tags": []
   },
   "outputs": [
    {
     "name": "stderr",
     "output_type": "stream",
     "text": [
      "Downloading: \"https://download.pytorch.org/models/resnet50-11ad3fa6.pth\" to /root/.cache/torch/hub/checkpoints/resnet50-11ad3fa6.pth\n",
      "100%|██████████| 97.8M/97.8M [00:00<00:00, 187MB/s]\n"
     ]
    }
   ],
   "source": [
    "# Load and modify ResNet model\n",
    "model = models.resnet50(weights='ResNet50_Weights.DEFAULT')\n",
    "num_ftrs = model.fc.in_features\n",
    "model.fc = nn.Linear(num_ftrs, num_classes)\n",
    "model = model.to(device)"
   ]
  },
  {
   "cell_type": "code",
   "execution_count": 8,
   "id": "25130a91",
   "metadata": {
    "execution": {
     "iopub.execute_input": "2025-03-12T03:04:58.390174Z",
     "iopub.status.busy": "2025-03-12T03:04:58.389883Z",
     "iopub.status.idle": "2025-03-12T03:04:58.394224Z",
     "shell.execute_reply": "2025-03-12T03:04:58.393576Z"
    },
    "papermill": {
     "duration": 0.00956,
     "end_time": "2025-03-12T03:04:58.395488",
     "exception": false,
     "start_time": "2025-03-12T03:04:58.385928",
     "status": "completed"
    },
    "tags": []
   },
   "outputs": [],
   "source": [
    "# Define loss function and optimizer\n",
    "criterion = nn.CrossEntropyLoss()\n",
    "optimizer = optim.SGD(model.parameters(), lr=0.001, momentum=0.9)"
   ]
  },
  {
   "cell_type": "code",
   "execution_count": 9,
   "id": "4560c029",
   "metadata": {
    "execution": {
     "iopub.execute_input": "2025-03-12T03:04:58.402591Z",
     "iopub.status.busy": "2025-03-12T03:04:58.402280Z",
     "iopub.status.idle": "2025-03-12T03:04:58.408965Z",
     "shell.execute_reply": "2025-03-12T03:04:58.408298Z"
    },
    "papermill": {
     "duration": 0.011593,
     "end_time": "2025-03-12T03:04:58.410183",
     "exception": false,
     "start_time": "2025-03-12T03:04:58.398590",
     "status": "completed"
    },
    "tags": []
   },
   "outputs": [],
   "source": [
    "# Training function\n",
    "def train_model(model, criterion, optimizer, num_epochs=20):\n",
    "    best_acc = 0.0\n",
    "    \n",
    "    for epoch in range(num_epochs):\n",
    "        print(f'Epoch {epoch}/{num_epochs - 1}')\n",
    "        \n",
    "        for phase in ['train', 'valid']:\n",
    "            if phase == 'train':\n",
    "                model.train()\n",
    "            else:\n",
    "                model.eval()\n",
    "                \n",
    "            running_loss = 0.0\n",
    "            running_corrects = 0\n",
    "            \n",
    "            for inputs, labels in dataloaders[phase]:\n",
    "                inputs = inputs.to(device)\n",
    "                labels = labels.to(device)\n",
    "                \n",
    "                optimizer.zero_grad()\n",
    "                \n",
    "                with torch.set_grad_enabled(phase == 'train'):\n",
    "                    outputs = model(inputs)\n",
    "                    _, preds = torch.max(outputs, 1)\n",
    "                    loss = criterion(outputs, labels)\n",
    "                    \n",
    "                    if phase == 'train':\n",
    "                        loss.backward()\n",
    "                        optimizer.step()\n",
    "                \n",
    "                running_loss += loss.item() * inputs.size(0)\n",
    "                running_corrects += torch.sum(preds == labels.data)\n",
    "            \n",
    "            epoch_loss = running_loss / dataset_sizes[phase]\n",
    "            epoch_acc = running_corrects.double() / dataset_sizes[phase]\n",
    "            \n",
    "            print(f'{phase} Loss: {epoch_loss:.4f} Acc: {epoch_acc:.4f}')\n",
    "            \n",
    "            if phase == 'valid' and epoch_acc > best_acc:\n",
    "                best_acc = epoch_acc\n",
    "                torch.save(model.state_dict(), 'best_model.pth')\n",
    "                \n",
    "        print('='*10)\n",
    "    \n",
    "    return model"
   ]
  },
  {
   "cell_type": "code",
   "execution_count": 10,
   "id": "28bceaf8",
   "metadata": {
    "execution": {
     "iopub.execute_input": "2025-03-12T03:04:58.417738Z",
     "iopub.status.busy": "2025-03-12T03:04:58.417491Z",
     "iopub.status.idle": "2025-03-12T03:04:58.424781Z",
     "shell.execute_reply": "2025-03-12T03:04:58.424160Z"
    },
    "papermill": {
     "duration": 0.012547,
     "end_time": "2025-03-12T03:04:58.426183",
     "exception": false,
     "start_time": "2025-03-12T03:04:58.413636",
     "status": "completed"
    },
    "tags": []
   },
   "outputs": [],
   "source": [
    "# Test function with metrics\n",
    "def evaluate_model(model):\n",
    "    model.eval()\n",
    "    y_true = []\n",
    "    y_pred = []\n",
    "    \n",
    "    with torch.no_grad():\n",
    "        for inputs, labels in dataloaders['test']:\n",
    "            inputs = inputs.to(device)\n",
    "            labels = labels.to(device)\n",
    "            outputs = model(inputs)\n",
    "            _, preds = torch.max(outputs, 1)\n",
    "            \n",
    "            y_true.extend(labels.cpu().numpy())\n",
    "            y_pred.extend(preds.cpu().numpy())\n",
    "    \n",
    "    # Calculate metrics\n",
    "    cm = confusion_matrix(y_true, y_pred)\n",
    "    report = classification_report(y_true, y_pred, target_names=class_names)\n",
    "    \n",
    "    # Calculate per-class metrics\n",
    "    tn = cm.sum(axis=1) - cm.diagonal()\n",
    "    fp = cm.sum(axis=0) - cm.diagonal()\n",
    "    tp = cm.diagonal()\n",
    "    fn = cm.sum() - (tp + fp + tn)\n",
    "    \n",
    "    accuracy = (tp.sum()) / (tp.sum() + fp.sum() + fn.sum() + tn.sum())\n",
    "    precision = tp / (tp + fp)\n",
    "    recall = tp / (tp + fn)\n",
    "    specificity = tn / (tn + fp)\n",
    "    f1 = 2 * (precision * recall) / (precision + recall)\n",
    "    \n",
    "    # Print results\n",
    "    print('Overall Accuracy:', accuracy)\n",
    "    print('Classification Report:')\n",
    "    print(report)\n",
    "    \n",
    "    print('Per-class metrics:')\n",
    "    for i, class_name in enumerate(class_names):\n",
    "        print(f'{class_name}:')\n",
    "        print(f'Precision: {precision[i]:.4f}')\n",
    "        print(f'Recall: {recall[i]:.4f}')\n",
    "        print(f'Specificity: {specificity[i]:.4f}')\n",
    "        print(f'F1-score: {f1[i]:.4f}')\n",
    "        print('='*10)\n",
    "    \n",
    "    # Plot confusion matrix\n",
    "    plt.figure(figsize=(10, 8))\n",
    "    sns.heatmap(cm, annot=True, fmt='d', cmap='Blues', \n",
    "                xticklabels=class_names, yticklabels=class_names)\n",
    "    plt.title('Confusion Matrix')\n",
    "    plt.ylabel('True Label')\n",
    "    plt.xlabel('Predicted Label')\n",
    "    plt.show()"
   ]
  },
  {
   "cell_type": "code",
   "execution_count": 11,
   "id": "05980477",
   "metadata": {
    "execution": {
     "iopub.execute_input": "2025-03-12T03:04:58.433217Z",
     "iopub.status.busy": "2025-03-12T03:04:58.433016Z",
     "iopub.status.idle": "2025-03-12T03:12:35.366142Z",
     "shell.execute_reply": "2025-03-12T03:12:35.365072Z"
    },
    "papermill": {
     "duration": 456.938445,
     "end_time": "2025-03-12T03:12:35.367943",
     "exception": false,
     "start_time": "2025-03-12T03:04:58.429498",
     "status": "completed"
    },
    "tags": []
   },
   "outputs": [
    {
     "name": "stdout",
     "output_type": "stream",
     "text": [
      "Training model...\n",
      "Epoch 0/19\n",
      "train Loss: 1.2251 Acc: 0.5791\n",
      "valid Loss: 0.7475 Acc: 0.7360\n",
      "==========\n",
      "Epoch 1/19\n",
      "train Loss: 0.8004 Acc: 0.7055\n",
      "valid Loss: 0.5610 Acc: 0.7988\n",
      "==========\n",
      "Epoch 2/19\n",
      "train Loss: 0.6693 Acc: 0.7574\n",
      "valid Loss: 0.4823 Acc: 0.8442\n",
      "==========\n",
      "Epoch 3/19\n",
      "train Loss: 0.5838 Acc: 0.7862\n",
      "valid Loss: 0.4357 Acc: 0.8453\n",
      "==========\n",
      "Epoch 4/19\n",
      "train Loss: 0.5096 Acc: 0.8177\n",
      "valid Loss: 0.3901 Acc: 0.8779\n",
      "==========\n",
      "Epoch 5/19\n",
      "train Loss: 0.4830 Acc: 0.8236\n",
      "valid Loss: 0.3455 Acc: 0.8884\n",
      "==========\n",
      "Epoch 6/19\n",
      "train Loss: 0.4273 Acc: 0.8458\n",
      "valid Loss: 0.3290 Acc: 0.8977\n",
      "==========\n",
      "Epoch 7/19\n",
      "train Loss: 0.3864 Acc: 0.8693\n",
      "valid Loss: 0.3095 Acc: 0.9047\n",
      "==========\n",
      "Epoch 8/19\n",
      "train Loss: 0.3421 Acc: 0.8875\n",
      "valid Loss: 0.2979 Acc: 0.9105\n",
      "==========\n",
      "Epoch 9/19\n",
      "train Loss: 0.3167 Acc: 0.8875\n",
      "valid Loss: 0.2902 Acc: 0.9198\n",
      "==========\n",
      "Epoch 10/19\n",
      "train Loss: 0.2993 Acc: 0.8981\n",
      "valid Loss: 0.2832 Acc: 0.9198\n",
      "==========\n",
      "Epoch 11/19\n",
      "train Loss: 0.3048 Acc: 0.8974\n",
      "valid Loss: 0.2709 Acc: 0.9151\n",
      "==========\n",
      "Epoch 12/19\n",
      "train Loss: 0.2909 Acc: 0.9047\n",
      "valid Loss: 0.2860 Acc: 0.9163\n",
      "==========\n",
      "Epoch 13/19\n",
      "train Loss: 0.2660 Acc: 0.9100\n",
      "valid Loss: 0.2473 Acc: 0.9221\n",
      "==========\n",
      "Epoch 14/19\n",
      "train Loss: 0.2512 Acc: 0.9100\n",
      "valid Loss: 0.2339 Acc: 0.9326\n",
      "==========\n",
      "Epoch 15/19\n",
      "train Loss: 0.2351 Acc: 0.9193\n",
      "valid Loss: 0.2386 Acc: 0.9291\n",
      "==========\n",
      "Epoch 16/19\n",
      "train Loss: 0.2085 Acc: 0.9298\n",
      "valid Loss: 0.2356 Acc: 0.9372\n",
      "==========\n",
      "Epoch 17/19\n",
      "train Loss: 0.2044 Acc: 0.9302\n",
      "valid Loss: 0.2272 Acc: 0.9349\n",
      "==========\n",
      "Epoch 18/19\n",
      "train Loss: 0.2011 Acc: 0.9341\n",
      "valid Loss: 0.2108 Acc: 0.9395\n",
      "==========\n",
      "Epoch 19/19\n",
      "train Loss: 0.2143 Acc: 0.9246\n",
      "valid Loss: 0.2330 Acc: 0.9395\n",
      "==========\n",
      "Evaluating on test set...\n"
     ]
    },
    {
     "name": "stderr",
     "output_type": "stream",
     "text": [
      "<ipython-input-11-eb3406e6eca5>:8: FutureWarning: You are using `torch.load` with `weights_only=False` (the current default value), which uses the default pickle module implicitly. It is possible to construct malicious pickle data which will execute arbitrary code during unpickling (See https://github.com/pytorch/pytorch/blob/main/SECURITY.md#untrusted-models for more details). In a future release, the default value for `weights_only` will be flipped to `True`. This limits the functions that could be executed during unpickling. Arbitrary objects will no longer be allowed to be loaded via this mode unless they are explicitly allowlisted by the user via `torch.serialization.add_safe_globals`. We recommend you start setting `weights_only=True` for any use case where you don't have full control of the loaded file. Please open an issue on GitHub for any issues related to this experimental feature.\n",
      "  model.load_state_dict(torch.load('best_model.pth'))\n"
     ]
    },
    {
     "name": "stdout",
     "output_type": "stream",
     "text": [
      "Overall Accuracy: 0.1585835257890685\n",
      "Classification Report:\n",
      "                   precision    recall  f1-score   support\n",
      "\n",
      "       Dermatitis       0.95      0.91      0.93        66\n",
      "Fungal_infections       0.90      0.87      0.89        54\n",
      "          Healthy       0.92      0.96      0.94        69\n",
      " Hypersensitivity       0.90      0.93      0.92        29\n",
      "      demodicosis       0.99      1.00      1.00       100\n",
      "         ringworm       0.97      0.97      0.97       115\n",
      "\n",
      "         accuracy                           0.95       433\n",
      "        macro avg       0.94      0.94      0.94       433\n",
      "     weighted avg       0.95      0.95      0.95       433\n",
      "\n",
      "Per-class metrics:\n",
      "Dermatitis:\n",
      "Precision: 0.9524\n",
      "Recall: 0.1415\n",
      "Specificity: 0.6667\n",
      "F1-score: 0.2464\n",
      "==========\n",
      "Fungal_infections:\n",
      "Precision: 0.9038\n",
      "Recall: 0.1116\n",
      "Specificity: 0.5833\n",
      "F1-score: 0.1987\n",
      "==========\n",
      "Healthy:\n",
      "Precision: 0.9167\n",
      "Recall: 0.1557\n",
      "Specificity: 0.3333\n",
      "F1-score: 0.2661\n",
      "==========\n",
      "Hypersensitivity:\n",
      "Precision: 0.9000\n",
      "Recall: 0.0631\n",
      "Specificity: 0.4000\n",
      "F1-score: 0.1179\n",
      "==========\n",
      "demodicosis:\n",
      "Precision: 0.9901\n",
      "Recall: 0.2315\n",
      "Specificity: 0.0000\n",
      "F1-score: 0.3752\n",
      "==========\n",
      "ringworm:\n",
      "Precision: 0.9739\n",
      "Recall: 0.2623\n",
      "Specificity: 0.5000\n",
      "F1-score: 0.4133\n",
      "==========\n"
     ]
    },
    {
     "data": {
      "image/png": "[encoded data removed]",
      "text/plain": [
       "<Figure size 1000x800 with 2 Axes>"
      ]
     },
     "metadata": {},
     "output_type": "display_data"
    }
   ],
   "source": [
    "# Main execution\n",
    "if __name__ == '__main__':\n",
    "    # Train the model\n",
    "    print(\"Training model...\")\n",
    "    model = train_model(model, criterion, optimizer, num_epochs=20)\n",
    "    \n",
    "    # Load best model weights\n",
    "    model.load_state_dict(torch.load('best_model.pth'))\n",
    "    \n",
    "    # Evaluate on test set\n",
    "    print(\"Evaluating on test set...\")\n",
    "    evaluate_model(model)"
   ]
  }
 ],
 "metadata": {
  "kaggle": {
   "accelerator": "gpu",
   "dataSources": [
    {
     "datasetId": 6802829,
     "sourceId": 10939109,
     "sourceType": "datasetVersion"
    }
   ],
   "dockerImageVersionId": 30919,
   "isGpuEnabled": true,
   "isInternetEnabled": true,
   "language": "python",
   "sourceType": "notebook"
  },
  "kernelspec": {
   "display_name": "Python 3",
   "language": "python",
   "name": "python3"
  },
  "language_info": {
   "codemirror_mode": {
    "name": "ipython",
    "version": 3
   },
   "file_extension": ".py",
   "mimetype": "text/x-python",
   "name": "python",
   "nbconvert_exporter": "python",
   "pygments_lexer": "ipython3",
   "version": "3.10.12"
  },
  "papermill": {
   "default_parameters": {},
   "duration": 477.085579,
   "end_time": "2025-03-12T03:12:37.500143",
   "environment_variables": {},
   "exception": null,
   "input_path": "__notebook__.ipynb",
   "output_path": "__notebook__.ipynb",
   "parameters": {},
   "start_time": "2025-03-12T03:04:40.414564",
   "version": "2.6.0"
  }
 },
 "nbformat": 4,
 "nbformat_minor": 5
}
